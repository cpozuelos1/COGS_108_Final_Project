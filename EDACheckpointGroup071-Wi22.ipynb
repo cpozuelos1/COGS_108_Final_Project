{
 "cells": [
  {
   "cell_type": "markdown",
   "metadata": {},
   "source": [
    "# COGS 108 - Data Checkpoint"
   ]
  },
  {
   "cell_type": "markdown",
   "metadata": {},
   "source": [
    "# Names\n",
    "\n",
    "- Nathaniel Wong\n",
    "- Ethan Tan\n",
    "- Judy Liu\n",
    "- Clara Pozuelos\n",
    "- Aidan Twul"
   ]
  },
  {
   "cell_type": "markdown",
   "metadata": {},
   "source": [
    "<a id='research_question'></a>\n",
    "# Research Question"
   ]
  },
  {
   "cell_type": "markdown",
   "metadata": {},
   "source": [
    "Was the performance of technology related sectors as represented by the performance of the QQQ as well as physical entertainment companies as represented by the Las Vegas Sands (LVS) corporation in the stock market directly influenced by the rise and fall of COVID-19 infection rates in the 2020 year?"
   ]
  },
  {
   "cell_type": "markdown",
   "metadata": {},
   "source": [
    "# Dataset(s)"
   ]
  },
  {
   "cell_type": "markdown",
   "metadata": {},
   "source": [
    "- Dataset Name: QQQ Historical Data\n",
    "- Link to the dataset: https://finance.yahoo.com/quote/QQQ/history?period1=1568592000&period2=1644537600&interval=1d&filter=history&frequency=1d&includeAdjustedClose=true\n",
    "- Number of observations: 604\n",
    "QQQ: This data is information about the open and close of the Invesco QQQ Trust Series 1 Fund which tracks majoor technology stocks. We will be using the information from this stock to track the general sentiment of technology companies in relation to corona virus infections.\n",
    "\n",
    "- Dataset Name: LVS Historical Data\n",
    "- Link to the dataset: https://finance.yahoo.com/quote/LVS/history?period1=1568592000&period2=1644537600&interval=1d&filter=history&frequency=1d&includeAdjustedClose=true\n",
    "- Number of observations: 609\n",
    "LVS: This data is information about the open and close of Las Vegas Sands company, a major casino entertainment conglomerate. We will be using the information from this data to track the general sentiment about physical entertainment companies in relation to corona virus infections.\n",
    "\n",
    "- Dataset Name: WHO Covid-19 Global Data\n",
    "- Link to the dataset: https://data.humdata.org/dataset/coronavirus-covid-19-cases-and-deaths\n",
    "- Number of observations: 182727\n",
    "WHO: This data is information about the Coronavirus COVID-19 daily new and cumulative cases and deaths globally. We will be using the information from this data to track the number of cases of Covid-19 in the United States during the 2020 year.\n",
    "\n",
    "Because we are tracking the relationship between covid-19 infections and the performance of stocks in technology and physical enteretainment sectors, we will ideally combining the data of covid infection rates along with the QQQ and LVS performance data over time to see if there is a general correlation between rising infection rates with rising technology stock performance, and a general correlation between rising infection rates with decreasing phsyical entertainment stock perforamcne."
   ]
  },
  {
   "cell_type": "markdown",
   "metadata": {},
   "source": [
    "# Setup"
   ]
  },
  {
   "cell_type": "code",
   "execution_count": null,
   "metadata": {},
   "outputs": [],
   "source": [
    "from datetime import datetime\n",
    "import pandas as pd\n",
    "import numpy as np\n",
    "import seaborn as sns\n",
    "import scipy.stats as stats\n",
    "from scipy.stats import ttest_ind, chisquare, normaltest\n",
    "import matplotlib.pyplot as plt"
   ]
  },
  {
   "cell_type": "code",
   "execution_count": null,
   "metadata": {},
   "outputs": [],
   "source": [
    "QQQ_df = pd.read_csv('./datasets/QQQ.csv')\n",
    "LVS_df = pd.read_csv('./datasets/LVS.csv')\n",
    "WHO_df = pd.read_csv('./datasets/WHO-COVID-19-global-data.csv')"
   ]
  },
  {
   "cell_type": "code",
   "execution_count": null,
   "metadata": {},
   "outputs": [],
   "source": [
    "QQQ_df.head()"
   ]
  },
  {
   "cell_type": "code",
   "execution_count": null,
   "metadata": {},
   "outputs": [],
   "source": [
    "LVS_df.head()"
   ]
  },
  {
   "cell_type": "code",
   "execution_count": null,
   "metadata": {},
   "outputs": [],
   "source": [
    "WHO_df.head()"
   ]
  },
  {
   "cell_type": "markdown",
   "metadata": {},
   "source": [
    "# Data Cleaning"
   ]
  },
  {
   "cell_type": "markdown",
   "metadata": {},
   "source": [
    "In regards to cleaning up the QQQ and LVS stock data, there was minimal steps we had to undertake \n",
    "because the data we collected from Yahoo Finance provided everything we needed in a concise manner \n",
    "without any extraneous data that had to be cleaned up."
   ]
  },
  {
   "cell_type": "code",
   "execution_count": null,
   "metadata": {},
   "outputs": [],
   "source": [
    "QQQ_df.isna().sum()"
   ]
  },
  {
   "cell_type": "code",
   "execution_count": null,
   "metadata": {},
   "outputs": [],
   "source": [
    "LVS_df.isna().sum()"
   ]
  },
  {
   "cell_type": "markdown",
   "metadata": {},
   "source": [
    "In regards to cleaning up the WHO Covid-19 data, the data was already cleaned because they were provided by a service that directly affiliates with World Health Organization. Due to our need, we have filtered the dataset so we only look at cases from the US and cases that happened in 2020."
   ]
  },
  {
   "cell_type": "code",
   "execution_count": null,
   "metadata": {},
   "outputs": [],
   "source": [
    "# Check for country by unique name\n",
    "WHO_df['Country'].value_counts"
   ]
  },
  {
   "cell_type": "code",
   "execution_count": null,
   "metadata": {},
   "outputs": [],
   "source": [
    "# Create a new Dataframe with just cases reagrding the US\n",
    "us_covid_df = WHO_df[WHO_df['Country'] == 'United States of America']\n",
    "\n",
    "# Checking to see if any information is missing in the Dataframe\n",
    "us_covid_df.isna().sum()"
   ]
  },
  {
   "cell_type": "code",
   "execution_count": null,
   "metadata": {},
   "outputs": [],
   "source": [
    "# Change the 'Date_reported' column to actual datetime type data \n",
    "# The below is wrong, keep getting this error: A value is trying to be set on a \n",
    "# copy of a slice from a DataFrame. Try using .loc[row_indexer,col_indexer] = value instead\n",
    "us_covid_df['Date_reported'] = pd.to_datetime(us_covid_df['Date_reported'])\n",
    "\n",
    "# Rechecking that the column types are correct\n",
    "us_covid_df.dtypes"
   ]
  },
  {
   "cell_type": "code",
   "execution_count": null,
   "metadata": {},
   "outputs": [],
   "source": [
    "# Checking the column names of the dataframe\n",
    "us_covid_df.columns"
   ]
  },
  {
   "cell_type": "code",
   "execution_count": null,
   "metadata": {},
   "outputs": [],
   "source": [
    "# Selecting only the necessary columns needed to do our analysis\n",
    "us_covid_df = us_covid_df[['Date_reported', 'Country', 'New_cases', 'Cumulative_cases', \n",
    "                          'New_deaths', 'Cumulative_deaths']]\n",
    "\n",
    "# Reconfiguring dataframe to include dates only in the year 2020\n",
    "us_covid_df.loc[us_covid_df['Date_reported'].dt.year == 2020]"
   ]
  },
  {
   "cell_type": "code",
   "execution_count": null,
   "metadata": {},
   "outputs": [],
   "source": [
    "# extract a subset of us_covid_df with data from the year of 2020\n",
    "us_covid_2020_df = us_covid_df.loc[us_covid_df['Date_reported'].dt.year == 2020]"
   ]
  },
  {
   "cell_type": "code",
   "execution_count": null,
   "metadata": {},
   "outputs": [],
   "source": [
    "# extract a subset of QQQ_df with data from the year of 2020\n",
    "QQQ_df_2020 = QQQ_df[QQQ_df['Date'].str[:4] == '2020']\n",
    "QQQ_df_2020"
   ]
  },
  {
   "cell_type": "code",
   "execution_count": null,
   "metadata": {},
   "outputs": [],
   "source": [
    "# extract a subset of LVS_df with data from the year of 2020\n",
    "LVS_df_2020 = LVS_df[LVS_df['Date'].str[:4] == '2020']\n",
    "LVS_df_2020"
   ]
  },
  {
   "cell_type": "markdown",
   "metadata": {},
   "source": [
    "# Data Analysis"
   ]
  },
  {
   "cell_type": "code",
   "execution_count": null,
   "metadata": {},
   "outputs": [],
   "source": [
    "# line plot that observes new cases change with time (date reported)\n",
    "sns.lineplot(x=\"Date_reported\", y=\"New_cases\", data=us_covid_2020_df)"
   ]
  },
  {
   "cell_type": "markdown",
   "metadata": {},
   "source": [
    "From the lineplot above, we can observe that new cases comes in waves. There is a downward trend from April to June 2020, and another one from August to October 2020. There is an upward trend in late March and from June to August 2020. There is also an upward spike from October to end of the year."
   ]
  },
  {
   "cell_type": "code",
   "execution_count": null,
   "metadata": {},
   "outputs": [],
   "source": [
    "# line plot that observes cumulative cases with time (date reported)\n",
    "sns.lineplot(x=\"Date_reported\", y=\"Cumulative_cases\", data=us_covid_2020_df)"
   ]
  },
  {
   "cell_type": "markdown",
   "metadata": {},
   "source": [
    "From the lineplot above, we can see a steep increase in cumulative cases."
   ]
  },
  {
   "cell_type": "code",
   "execution_count": null,
   "metadata": {},
   "outputs": [],
   "source": [
    "# add a new column that stores the day-to-day change in new cases\n",
    "us_covid_2020_df[\"New_cases_change\"] = us_covid_2020_df['New_cases'] - us_covid_2020_df['New_cases'].shift(-1)"
   ]
  },
  {
   "cell_type": "code",
   "execution_count": null,
   "metadata": {},
   "outputs": [],
   "source": [
    "# an enhanced boxplot that observes the pattern for change in new cases\n",
    "sns.boxenplot(x=\"New_cases_change\", data=us_covid_2020_df)"
   ]
  },
  {
   "cell_type": "code",
   "execution_count": null,
   "metadata": {},
   "outputs": [],
   "source": [
    "# boxplot for the change in new cases to observe outliers\n",
    "sns.boxplot(x=\"New_cases_change\", data=us_covid_2020_df)"
   ]
  },
  {
   "cell_type": "code",
   "execution_count": null,
   "metadata": {},
   "outputs": [],
   "source": [
    "# set our plot size\n",
    "sns.set(rc= {'figure.figsize':(15,8)})"
   ]
  },
  {
   "cell_type": "code",
   "execution_count": null,
   "metadata": {},
   "outputs": [],
   "source": [
    "ax = sns.lineplot(x='Date', y='Close', data=QQQ_df_2020)\n",
    "x_ticks = ax.set_xticks([i*30 for i in range(10)])"
   ]
  },
  {
   "cell_type": "code",
   "execution_count": null,
   "metadata": {},
   "outputs": [],
   "source": [
    "ax = sns.lineplot(x='Date', y='Close', data=LVS_df_2020)\n",
    "x_ticks = ax.set_xticks([i*30 for i in range(10)])"
   ]
  },
  {
   "cell_type": "markdown",
   "metadata": {},
   "source": [
    "## Combined Stock Data"
   ]
  },
  {
   "cell_type": "code",
   "execution_count": null,
   "metadata": {},
   "outputs": [],
   "source": [
    "fig, ax = plt.subplots()\n",
    "sns.lineplot(x='Date', y='Close', data=QQQ_df_2020)\n",
    "plt.ylabel('Close QQQ', size=5)\n",
    "ax2 = ax.twinx()\n",
    "sns.lineplot(x='Date', y='Close', data=LVS_df_2020, color='r')\n",
    "plt.ylabel('Close LVS', size=5)\n",
    "plt.xlabel('Date', size=5)\n",
    "x_ticks = ax.set_xticks([i*30 for i in range(10)])"
   ]
  },
  {
   "cell_type": "markdown",
   "metadata": {},
   "source": [
    "As we can see in the initial data, with the onset of COVID, there is a harsh drop in stock price of both LVS and QQQ data. This is to be expected as with wordlwide fears over the pandemic, there is no company which is left untouched as the public pulls their money out of companies.\n",
    "\n",
    "After the _ date period however, we see theat there is a marked change in sentiment in which after the large initla drop, investors start pulling their money back into the market at a slow rate.\n",
    "\n",
    "We see that technology has a remarkably stronger performance in that area in comparison to LVS, the Las Vegas Sands stock we are using as a marker for \"travel\" stocks.\n",
    "\n",
    "We reason that this is because technology requires little social contact in order to be useful, whilest physical travel companies require indivudals to be in acutal locations which was restricted due to government lockdowns and quarntine states around the globe."
   ]
  },
  {
   "cell_type": "markdown",
   "metadata": {},
   "source": [
    "### Revised graph"
   ]
  },
  {
   "cell_type": "code",
   "execution_count": null,
   "metadata": {},
   "outputs": [],
   "source": [
    "# generate QQQ data in the form of date, change since previous day\n",
    "QQQ_data = []\n",
    "for i in range(1,len(QQQ_df_2020)):\n",
    "    QQQ_data.append([QQQ_df_2020['Date'].iloc[i],QQQ_df_2020['Close'].iloc[i-1]-QQQ_df_2020['Close'].iloc[i]])\n",
    "QQQ_data = pd.DataFrame(QQQ_data, columns = ['Date', 'Closing Change'])"
   ]
  },
  {
   "cell_type": "code",
   "execution_count": null,
   "metadata": {},
   "outputs": [],
   "source": [
    "ax = sns.lineplot(x='Date', y='Closing Change', data=QQQ_data)\n",
    "x_ticks = ax.set_xticks([i*30 for i in range(10)])"
   ]
  },
  {
   "cell_type": "code",
   "execution_count": null,
   "metadata": {},
   "outputs": [],
   "source": [
    "# generate data in the form of date, change since previous day\n",
    "LVS_data = []\n",
    "for i in range(1,len(LVS_df_2020)):\n",
    "    LVS_data.append([LVS_df_2020['Date'].iloc[i],LVS_df_2020['Close'].iloc[i-1]-LVS_df_2020['Close'].iloc[i]])\n",
    "LVS_data = pd.DataFrame(LVS_data, columns = ['Date', 'Closing Change'])"
   ]
  },
  {
   "cell_type": "code",
   "execution_count": null,
   "metadata": {},
   "outputs": [],
   "source": [
    "fig, ax = plt.subplots()\n",
    "sns.lineplot(x='Date', y='Closing Change', data=QQQ_data)\n",
    "plt.ylabel('Closing Change QQQ', size=5)\n",
    "ax2 = ax.twinx()\n",
    "sns.lineplot(x='Date', y='Closing Change', data=LVS_data, color='r')\n",
    "plt.ylabel('Closing Change LVS', size=5)\n",
    "plt.xlabel('Date', size=5)\n",
    "x_ticks = ax.set_xticks([i*30 for i in range(10)])"
   ]
  },
  {
   "cell_type": "markdown",
   "metadata": {},
   "source": [
    "When we look at the revised grpahs which plot the slope at which the resepctive stocks increase, we see that there is a larger positive acceleration in which the price of the QQQ increases in comparison to that of LVS. This is in line with our analysis on how technology stock performance greatly outweighed that of LVS by demosntrating that the rate at whicht he stock price typicaly increased was much larger than that of the travel stock. Furthermore, we see that the the value of this \"slope\" of closing prices, it is typically the case that the change in price value from the current day - the past day is positive, and much more than that of LVS stock relative perforamnce.\n",
    "\n",
    "In other words, when we count the number of \"positive change\" days as well as the value of the \"positive change\", that of the QQQ results vastly outweight LVS in terms of positive value as well as number of positive dayis."
   ]
  }
 ],
 "metadata": {
  "kernelspec": {
   "display_name": "Python 3",
   "language": "python",
   "name": "python3"
  },
  "language_info": {
   "codemirror_mode": {
    "name": "ipython",
    "version": 3
   },
   "file_extension": ".py",
   "mimetype": "text/x-python",
   "name": "python",
   "nbconvert_exporter": "python",
   "pygments_lexer": "ipython3",
   "version": "3.9.10"
  }
 },
 "nbformat": 4,
 "nbformat_minor": 2
}
