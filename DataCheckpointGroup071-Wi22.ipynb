{
 "cells": [
  {
   "cell_type": "markdown",
   "metadata": {},
   "source": [
    "# COGS 108 - Data Checkpoint"
   ]
  },
  {
   "cell_type": "markdown",
   "metadata": {},
   "source": [
    "# Names\n",
    "\n",
    "- Nathaniel Wong\n",
    "- Ethan Tan\n",
    "- Judy Liu\n",
    "- Clara Pozuelos\n",
    "- Aidan Twul"
   ]
  },
  {
   "cell_type": "markdown",
   "metadata": {},
   "source": [
    "<a id='research_question'></a>\n",
    "# Research Question"
   ]
  },
  {
   "cell_type": "markdown",
   "metadata": {},
   "source": [
    "Was the performance of technology related sectors as represented by the performance of the QQQ as well as physical entertainment companies as represented by the Las Vegas Sands (LVS) corporation in the stock market directly influenced by the rise and fall of COVID-19 infection rates in the 2020 year?"
   ]
  },
  {
   "cell_type": "markdown",
   "metadata": {},
   "source": [
    "# Dataset(s)"
   ]
  },
  {
   "cell_type": "markdown",
   "metadata": {},
   "source": [
    "- Dataset Name: QQQ Historical Data\n",
    "- Link to the dataset: https://finance.yahoo.com/quote/QQQ/history?period1=1568592000&period2=1644537600&interval=1d&filter=history&frequency=1d&includeAdjustedClose=true\n",
    "- Number of observations: 604\n",
    "QQQ: This data is information about the open and close of the Invesco QQQ Trust Series 1 Fund which tracks majoor technology stocks. We will be using the information from this stock to track the general sentiment of technology companies in relation to corona virus infections.\n",
    "\n",
    "- Dataset Name: LVS Historical Data\n",
    "- Link to the dataset: https://finance.yahoo.com/quote/LVS/history?period1=1568592000&period2=1644537600&interval=1d&filter=history&frequency=1d&includeAdjustedClose=true\n",
    "- Number of observations: 609\n",
    "LVS: This data is information about the open and close of Las Vegas Sands company, a major casino entertainment conglomerate. We will be using the information from this data to track the general sentiment about physical entertainment companies in relation to corona virus infections.\n",
    "\n",
    "- Dataset Name: WHO Covid-19 Global Data\n",
    "- Link to the dataset: https://data.humdata.org/dataset/coronavirus-covid-19-cases-and-deaths\n",
    "- Number of observations: 182727\n",
    "WHO: This data is information about the Coronavirus COVID-19 daily new and cumulative cases and deaths globally. We will be using the information from this data to track the number of cases of Covid-19 in the United States during the 2020 year.\n",
    "\n",
    "Because we are tracking the relationship between covid-19 infections and the performance of stocks in technology and physical enteretainment sectors, we will ideally combining the data of covid infection rates along with the QQQ and LVS performance data over time to see if there is a general correlation between rising infection rates with rising technology stock performance, and a general correlation between rising infection rates with decreasing phsyical entertainment stock perforamcne."
   ]
  },
  {
   "cell_type": "markdown",
   "metadata": {},
   "source": [
    "# Setup"
   ]
  },
  {
   "cell_type": "code",
   "execution_count": 1,
   "metadata": {},
   "outputs": [],
   "source": [
    "from datetime import datetime\n",
    "import pandas as pd\n",
    "import numpy as np\n",
    "import seaborn as sns\n",
    "import scipy.stats as stats\n",
    "from scipy.stats import ttest_ind, chisquare, normaltest\n",
    "import matplotlib.pyplot as plt"
   ]
  },
  {
   "cell_type": "code",
   "execution_count": 2,
   "metadata": {},
   "outputs": [],
   "source": [
    "QQQ_df = pd.read_csv('./datasets/QQQ.csv')\n",
    "LVS_df = pd.read_csv('./datasets/LVS.csv')\n",
    "WHO_df = pd.read_csv('./datasets/WHO-COVID-19-global-data.csv')"
   ]
  },
  {
   "cell_type": "code",
   "execution_count": 3,
   "metadata": {},
   "outputs": [
    {
     "data": {
      "text/html": [
       "<div>\n",
       "<style scoped>\n",
       "    .dataframe tbody tr th:only-of-type {\n",
       "        vertical-align: middle;\n",
       "    }\n",
       "\n",
       "    .dataframe tbody tr th {\n",
       "        vertical-align: top;\n",
       "    }\n",
       "\n",
       "    .dataframe thead th {\n",
       "        text-align: right;\n",
       "    }\n",
       "</style>\n",
       "<table border=\"1\" class=\"dataframe\">\n",
       "  <thead>\n",
       "    <tr style=\"text-align: right;\">\n",
       "      <th></th>\n",
       "      <th>Date</th>\n",
       "      <th>Open</th>\n",
       "      <th>High</th>\n",
       "      <th>Low</th>\n",
       "      <th>Close</th>\n",
       "      <th>Adj Close</th>\n",
       "      <th>Volume</th>\n",
       "    </tr>\n",
       "  </thead>\n",
       "  <tbody>\n",
       "    <tr>\n",
       "      <th>0</th>\n",
       "      <td>2019-09-16</td>\n",
       "      <td>191.300003</td>\n",
       "      <td>192.080002</td>\n",
       "      <td>191.110001</td>\n",
       "      <td>191.679993</td>\n",
       "      <td>188.889801</td>\n",
       "      <td>20319000</td>\n",
       "    </tr>\n",
       "    <tr>\n",
       "      <th>1</th>\n",
       "      <td>2019-09-17</td>\n",
       "      <td>191.699997</td>\n",
       "      <td>192.600006</td>\n",
       "      <td>191.289993</td>\n",
       "      <td>192.600006</td>\n",
       "      <td>189.796417</td>\n",
       "      <td>20953400</td>\n",
       "    </tr>\n",
       "    <tr>\n",
       "      <th>2</th>\n",
       "      <td>2019-09-18</td>\n",
       "      <td>192.199997</td>\n",
       "      <td>192.600006</td>\n",
       "      <td>190.110001</td>\n",
       "      <td>192.520004</td>\n",
       "      <td>189.717560</td>\n",
       "      <td>29781300</td>\n",
       "    </tr>\n",
       "    <tr>\n",
       "      <th>3</th>\n",
       "      <td>2019-09-19</td>\n",
       "      <td>192.860001</td>\n",
       "      <td>194.039993</td>\n",
       "      <td>192.470001</td>\n",
       "      <td>192.839996</td>\n",
       "      <td>190.032898</td>\n",
       "      <td>26039400</td>\n",
       "    </tr>\n",
       "    <tr>\n",
       "      <th>4</th>\n",
       "      <td>2019-09-20</td>\n",
       "      <td>193.110001</td>\n",
       "      <td>193.309998</td>\n",
       "      <td>190.160004</td>\n",
       "      <td>190.800003</td>\n",
       "      <td>188.022614</td>\n",
       "      <td>29086100</td>\n",
       "    </tr>\n",
       "  </tbody>\n",
       "</table>\n",
       "</div>"
      ],
      "text/plain": [
       "         Date        Open        High         Low       Close   Adj Close  \\\n",
       "0  2019-09-16  191.300003  192.080002  191.110001  191.679993  188.889801   \n",
       "1  2019-09-17  191.699997  192.600006  191.289993  192.600006  189.796417   \n",
       "2  2019-09-18  192.199997  192.600006  190.110001  192.520004  189.717560   \n",
       "3  2019-09-19  192.860001  194.039993  192.470001  192.839996  190.032898   \n",
       "4  2019-09-20  193.110001  193.309998  190.160004  190.800003  188.022614   \n",
       "\n",
       "     Volume  \n",
       "0  20319000  \n",
       "1  20953400  \n",
       "2  29781300  \n",
       "3  26039400  \n",
       "4  29086100  "
      ]
     },
     "execution_count": 3,
     "metadata": {},
     "output_type": "execute_result"
    }
   ],
   "source": [
    "QQQ_df.head()"
   ]
  },
  {
   "cell_type": "code",
   "execution_count": 4,
   "metadata": {},
   "outputs": [
    {
     "data": {
      "text/html": [
       "<div>\n",
       "<style scoped>\n",
       "    .dataframe tbody tr th:only-of-type {\n",
       "        vertical-align: middle;\n",
       "    }\n",
       "\n",
       "    .dataframe tbody tr th {\n",
       "        vertical-align: top;\n",
       "    }\n",
       "\n",
       "    .dataframe thead th {\n",
       "        text-align: right;\n",
       "    }\n",
       "</style>\n",
       "<table border=\"1\" class=\"dataframe\">\n",
       "  <thead>\n",
       "    <tr style=\"text-align: right;\">\n",
       "      <th></th>\n",
       "      <th>Date</th>\n",
       "      <th>Open</th>\n",
       "      <th>High</th>\n",
       "      <th>Low</th>\n",
       "      <th>Close</th>\n",
       "      <th>Adj Close</th>\n",
       "      <th>Volume</th>\n",
       "    </tr>\n",
       "  </thead>\n",
       "  <tbody>\n",
       "    <tr>\n",
       "      <th>0</th>\n",
       "      <td>2019-09-16</td>\n",
       "      <td>59.049999</td>\n",
       "      <td>59.759998</td>\n",
       "      <td>58.919998</td>\n",
       "      <td>59.639999</td>\n",
       "      <td>57.074806</td>\n",
       "      <td>3266200</td>\n",
       "    </tr>\n",
       "    <tr>\n",
       "      <th>1</th>\n",
       "      <td>2019-09-17</td>\n",
       "      <td>58.070000</td>\n",
       "      <td>59.160000</td>\n",
       "      <td>57.230000</td>\n",
       "      <td>59.110001</td>\n",
       "      <td>57.307491</td>\n",
       "      <td>5347800</td>\n",
       "    </tr>\n",
       "    <tr>\n",
       "      <th>2</th>\n",
       "      <td>2019-09-18</td>\n",
       "      <td>58.900002</td>\n",
       "      <td>59.000000</td>\n",
       "      <td>57.700001</td>\n",
       "      <td>58.380001</td>\n",
       "      <td>56.599754</td>\n",
       "      <td>2629000</td>\n",
       "    </tr>\n",
       "    <tr>\n",
       "      <th>3</th>\n",
       "      <td>2019-09-19</td>\n",
       "      <td>58.599998</td>\n",
       "      <td>58.939999</td>\n",
       "      <td>57.349998</td>\n",
       "      <td>57.580002</td>\n",
       "      <td>55.824150</td>\n",
       "      <td>3807300</td>\n",
       "    </tr>\n",
       "    <tr>\n",
       "      <th>4</th>\n",
       "      <td>2019-09-20</td>\n",
       "      <td>57.650002</td>\n",
       "      <td>57.869999</td>\n",
       "      <td>56.270000</td>\n",
       "      <td>56.330002</td>\n",
       "      <td>54.612267</td>\n",
       "      <td>4804300</td>\n",
       "    </tr>\n",
       "  </tbody>\n",
       "</table>\n",
       "</div>"
      ],
      "text/plain": [
       "         Date       Open       High        Low      Close  Adj Close   Volume\n",
       "0  2019-09-16  59.049999  59.759998  58.919998  59.639999  57.074806  3266200\n",
       "1  2019-09-17  58.070000  59.160000  57.230000  59.110001  57.307491  5347800\n",
       "2  2019-09-18  58.900002  59.000000  57.700001  58.380001  56.599754  2629000\n",
       "3  2019-09-19  58.599998  58.939999  57.349998  57.580002  55.824150  3807300\n",
       "4  2019-09-20  57.650002  57.869999  56.270000  56.330002  54.612267  4804300"
      ]
     },
     "execution_count": 4,
     "metadata": {},
     "output_type": "execute_result"
    }
   ],
   "source": [
    "LVS_df.head()"
   ]
  },
  {
   "cell_type": "code",
   "execution_count": 5,
   "metadata": {},
   "outputs": [
    {
     "data": {
      "text/html": [
       "<div>\n",
       "<style scoped>\n",
       "    .dataframe tbody tr th:only-of-type {\n",
       "        vertical-align: middle;\n",
       "    }\n",
       "\n",
       "    .dataframe tbody tr th {\n",
       "        vertical-align: top;\n",
       "    }\n",
       "\n",
       "    .dataframe thead th {\n",
       "        text-align: right;\n",
       "    }\n",
       "</style>\n",
       "<table border=\"1\" class=\"dataframe\">\n",
       "  <thead>\n",
       "    <tr style=\"text-align: right;\">\n",
       "      <th></th>\n",
       "      <th>Date_reported</th>\n",
       "      <th>Country_code</th>\n",
       "      <th>Country</th>\n",
       "      <th>WHO_region</th>\n",
       "      <th>New_cases</th>\n",
       "      <th>Cumulative_cases</th>\n",
       "      <th>New_deaths</th>\n",
       "      <th>Cumulative_deaths</th>\n",
       "    </tr>\n",
       "  </thead>\n",
       "  <tbody>\n",
       "    <tr>\n",
       "      <th>0</th>\n",
       "      <td>2020-01-03</td>\n",
       "      <td>AF</td>\n",
       "      <td>Afghanistan</td>\n",
       "      <td>EMRO</td>\n",
       "      <td>0</td>\n",
       "      <td>0</td>\n",
       "      <td>0</td>\n",
       "      <td>0</td>\n",
       "    </tr>\n",
       "    <tr>\n",
       "      <th>1</th>\n",
       "      <td>2020-01-04</td>\n",
       "      <td>AF</td>\n",
       "      <td>Afghanistan</td>\n",
       "      <td>EMRO</td>\n",
       "      <td>0</td>\n",
       "      <td>0</td>\n",
       "      <td>0</td>\n",
       "      <td>0</td>\n",
       "    </tr>\n",
       "    <tr>\n",
       "      <th>2</th>\n",
       "      <td>2020-01-05</td>\n",
       "      <td>AF</td>\n",
       "      <td>Afghanistan</td>\n",
       "      <td>EMRO</td>\n",
       "      <td>0</td>\n",
       "      <td>0</td>\n",
       "      <td>0</td>\n",
       "      <td>0</td>\n",
       "    </tr>\n",
       "    <tr>\n",
       "      <th>3</th>\n",
       "      <td>2020-01-06</td>\n",
       "      <td>AF</td>\n",
       "      <td>Afghanistan</td>\n",
       "      <td>EMRO</td>\n",
       "      <td>0</td>\n",
       "      <td>0</td>\n",
       "      <td>0</td>\n",
       "      <td>0</td>\n",
       "    </tr>\n",
       "    <tr>\n",
       "      <th>4</th>\n",
       "      <td>2020-01-07</td>\n",
       "      <td>AF</td>\n",
       "      <td>Afghanistan</td>\n",
       "      <td>EMRO</td>\n",
       "      <td>0</td>\n",
       "      <td>0</td>\n",
       "      <td>0</td>\n",
       "      <td>0</td>\n",
       "    </tr>\n",
       "  </tbody>\n",
       "</table>\n",
       "</div>"
      ],
      "text/plain": [
       "  Date_reported Country_code      Country WHO_region  New_cases  \\\n",
       "0    2020-01-03           AF  Afghanistan       EMRO          0   \n",
       "1    2020-01-04           AF  Afghanistan       EMRO          0   \n",
       "2    2020-01-05           AF  Afghanistan       EMRO          0   \n",
       "3    2020-01-06           AF  Afghanistan       EMRO          0   \n",
       "4    2020-01-07           AF  Afghanistan       EMRO          0   \n",
       "\n",
       "   Cumulative_cases  New_deaths  Cumulative_deaths  \n",
       "0                 0           0                  0  \n",
       "1                 0           0                  0  \n",
       "2                 0           0                  0  \n",
       "3                 0           0                  0  \n",
       "4                 0           0                  0  "
      ]
     },
     "execution_count": 5,
     "metadata": {},
     "output_type": "execute_result"
    }
   ],
   "source": [
    "WHO_df.head()"
   ]
  },
  {
   "cell_type": "markdown",
   "metadata": {},
   "source": [
    "# Data Cleaning"
   ]
  },
  {
   "cell_type": "markdown",
   "metadata": {},
   "source": [
    "In regards to cleaning up the QQQ and LVS stock data, there was minimal steps we had to undertake \n",
    "because the data we collected from Yahoo Finance provided everything we needed in a concise manner \n",
    "without any extraneous data that had to be cleaned up."
   ]
  },
  {
   "cell_type": "code",
   "execution_count": 6,
   "metadata": {},
   "outputs": [
    {
     "data": {
      "text/plain": [
       "Date         0\n",
       "Open         0\n",
       "High         0\n",
       "Low          0\n",
       "Close        0\n",
       "Adj Close    0\n",
       "Volume       0\n",
       "dtype: int64"
      ]
     },
     "execution_count": 6,
     "metadata": {},
     "output_type": "execute_result"
    }
   ],
   "source": [
    "QQQ_df.isna().sum()"
   ]
  },
  {
   "cell_type": "code",
   "execution_count": 7,
   "metadata": {},
   "outputs": [
    {
     "data": {
      "text/plain": [
       "Date         0\n",
       "Open         0\n",
       "High         0\n",
       "Low          0\n",
       "Close        0\n",
       "Adj Close    0\n",
       "Volume       0\n",
       "dtype: int64"
      ]
     },
     "execution_count": 7,
     "metadata": {},
     "output_type": "execute_result"
    }
   ],
   "source": [
    "LVS_df.isna().sum()"
   ]
  },
  {
   "cell_type": "markdown",
   "metadata": {},
   "source": [
    "In regards to cleaning up the WHO Covid-19 data, the data was already cleaned because they were provided by a service that directly affiliates with World Health Organization. Due to our need, we have filtered the dataset so we only look at cases from the US and cases that happened in 2020."
   ]
  },
  {
   "cell_type": "code",
   "execution_count": 8,
   "metadata": {},
   "outputs": [
    {
     "data": {
      "text/plain": [
       "<bound method IndexOpsMixin.value_counts of 0         Afghanistan\n",
       "1         Afghanistan\n",
       "2         Afghanistan\n",
       "3         Afghanistan\n",
       "4         Afghanistan\n",
       "             ...     \n",
       "182722       Zimbabwe\n",
       "182723       Zimbabwe\n",
       "182724       Zimbabwe\n",
       "182725       Zimbabwe\n",
       "182726       Zimbabwe\n",
       "Name: Country, Length: 182727, dtype: object>"
      ]
     },
     "execution_count": 8,
     "metadata": {},
     "output_type": "execute_result"
    }
   ],
   "source": [
    "# Check for country by unique name\n",
    "WHO_df['Country'].value_counts"
   ]
  },
  {
   "cell_type": "code",
   "execution_count": 9,
   "metadata": {},
   "outputs": [
    {
     "data": {
      "text/plain": [
       "Date_reported        0\n",
       "Country_code         0\n",
       "Country              0\n",
       "WHO_region           0\n",
       "New_cases            0\n",
       "Cumulative_cases     0\n",
       "New_deaths           0\n",
       "Cumulative_deaths    0\n",
       "dtype: int64"
      ]
     },
     "execution_count": 9,
     "metadata": {},
     "output_type": "execute_result"
    }
   ],
   "source": [
    "# Create a new Dataframe with just cases reagrding the US\n",
    "us_covid_df = WHO_df[WHO_df['Country'] == 'United States of America']\n",
    "\n",
    "# Checking to see if any information is missing in the Dataframe\n",
    "us_covid_df.isna().sum()"
   ]
  },
  {
   "cell_type": "code",
   "execution_count": 10,
   "metadata": {},
   "outputs": [
    {
     "name": "stderr",
     "output_type": "stream",
     "text": [
      "/var/folders/80/3fbmvq71367fgg085czl0scr0000gn/T/ipykernel_42894/4186771931.py:4: SettingWithCopyWarning: \n",
      "A value is trying to be set on a copy of a slice from a DataFrame.\n",
      "Try using .loc[row_indexer,col_indexer] = value instead\n",
      "\n",
      "See the caveats in the documentation: https://pandas.pydata.org/pandas-docs/stable/user_guide/indexing.html#returning-a-view-versus-a-copy\n",
      "  us_covid_df['Date_reported'] = pd.to_datetime(us_covid_df['Date_reported'])\n"
     ]
    },
    {
     "data": {
      "text/plain": [
       "Date_reported        datetime64[ns]\n",
       "Country_code                 object\n",
       "Country                      object\n",
       "WHO_region                   object\n",
       "New_cases                     int64\n",
       "Cumulative_cases              int64\n",
       "New_deaths                    int64\n",
       "Cumulative_deaths             int64\n",
       "dtype: object"
      ]
     },
     "execution_count": 10,
     "metadata": {},
     "output_type": "execute_result"
    }
   ],
   "source": [
    "# Change the 'Date_reported' column to actual datetime type data \n",
    "# The below is wrong, keep getting this error: A value is trying to be set on a \n",
    "# copy of a slice from a DataFrame. Try using .loc[row_indexer,col_indexer] = value instead\n",
    "us_covid_df['Date_reported'] = pd.to_datetime(us_covid_df['Date_reported'])\n",
    "\n",
    "# Rechecking that the column types are correct\n",
    "us_covid_df.dtypes"
   ]
  },
  {
   "cell_type": "code",
   "execution_count": 11,
   "metadata": {},
   "outputs": [
    {
     "data": {
      "text/plain": [
       "Index(['Date_reported', 'Country_code', 'Country', 'WHO_region', 'New_cases',\n",
       "       'Cumulative_cases', 'New_deaths', 'Cumulative_deaths'],\n",
       "      dtype='object')"
      ]
     },
     "execution_count": 11,
     "metadata": {},
     "output_type": "execute_result"
    }
   ],
   "source": [
    "# Checking the column names of the dataframe\n",
    "us_covid_df.columns"
   ]
  },
  {
   "cell_type": "code",
   "execution_count": 12,
   "metadata": {},
   "outputs": [
    {
     "data": {
      "text/html": [
       "<div>\n",
       "<style scoped>\n",
       "    .dataframe tbody tr th:only-of-type {\n",
       "        vertical-align: middle;\n",
       "    }\n",
       "\n",
       "    .dataframe tbody tr th {\n",
       "        vertical-align: top;\n",
       "    }\n",
       "\n",
       "    .dataframe thead th {\n",
       "        text-align: right;\n",
       "    }\n",
       "</style>\n",
       "<table border=\"1\" class=\"dataframe\">\n",
       "  <thead>\n",
       "    <tr style=\"text-align: right;\">\n",
       "      <th></th>\n",
       "      <th>Date_reported</th>\n",
       "      <th>Country</th>\n",
       "      <th>New_cases</th>\n",
       "      <th>Cumulative_cases</th>\n",
       "      <th>New_deaths</th>\n",
       "      <th>Cumulative_deaths</th>\n",
       "    </tr>\n",
       "  </thead>\n",
       "  <tbody>\n",
       "    <tr>\n",
       "      <th>174246</th>\n",
       "      <td>2020-01-03</td>\n",
       "      <td>United States of America</td>\n",
       "      <td>0</td>\n",
       "      <td>0</td>\n",
       "      <td>0</td>\n",
       "      <td>0</td>\n",
       "    </tr>\n",
       "    <tr>\n",
       "      <th>174247</th>\n",
       "      <td>2020-01-04</td>\n",
       "      <td>United States of America</td>\n",
       "      <td>0</td>\n",
       "      <td>0</td>\n",
       "      <td>0</td>\n",
       "      <td>0</td>\n",
       "    </tr>\n",
       "    <tr>\n",
       "      <th>174248</th>\n",
       "      <td>2020-01-05</td>\n",
       "      <td>United States of America</td>\n",
       "      <td>0</td>\n",
       "      <td>0</td>\n",
       "      <td>0</td>\n",
       "      <td>0</td>\n",
       "    </tr>\n",
       "    <tr>\n",
       "      <th>174249</th>\n",
       "      <td>2020-01-06</td>\n",
       "      <td>United States of America</td>\n",
       "      <td>0</td>\n",
       "      <td>0</td>\n",
       "      <td>0</td>\n",
       "      <td>0</td>\n",
       "    </tr>\n",
       "    <tr>\n",
       "      <th>174250</th>\n",
       "      <td>2020-01-07</td>\n",
       "      <td>United States of America</td>\n",
       "      <td>0</td>\n",
       "      <td>0</td>\n",
       "      <td>0</td>\n",
       "      <td>0</td>\n",
       "    </tr>\n",
       "    <tr>\n",
       "      <th>...</th>\n",
       "      <td>...</td>\n",
       "      <td>...</td>\n",
       "      <td>...</td>\n",
       "      <td>...</td>\n",
       "      <td>...</td>\n",
       "      <td>...</td>\n",
       "    </tr>\n",
       "    <tr>\n",
       "      <th>174605</th>\n",
       "      <td>2020-12-27</td>\n",
       "      <td>United States of America</td>\n",
       "      <td>158525</td>\n",
       "      <td>18894000</td>\n",
       "      <td>2226</td>\n",
       "      <td>343083</td>\n",
       "    </tr>\n",
       "    <tr>\n",
       "      <th>174606</th>\n",
       "      <td>2020-12-28</td>\n",
       "      <td>United States of America</td>\n",
       "      <td>149358</td>\n",
       "      <td>19043358</td>\n",
       "      <td>1650</td>\n",
       "      <td>344733</td>\n",
       "    </tr>\n",
       "    <tr>\n",
       "      <th>174607</th>\n",
       "      <td>2020-12-29</td>\n",
       "      <td>United States of America</td>\n",
       "      <td>152831</td>\n",
       "      <td>19196189</td>\n",
       "      <td>1890</td>\n",
       "      <td>346623</td>\n",
       "    </tr>\n",
       "    <tr>\n",
       "      <th>174608</th>\n",
       "      <td>2020-12-30</td>\n",
       "      <td>United States of America</td>\n",
       "      <td>178998</td>\n",
       "      <td>19375187</td>\n",
       "      <td>2226</td>\n",
       "      <td>348849</td>\n",
       "    </tr>\n",
       "    <tr>\n",
       "      <th>174609</th>\n",
       "      <td>2020-12-31</td>\n",
       "      <td>United States of America</td>\n",
       "      <td>209046</td>\n",
       "      <td>19584233</td>\n",
       "      <td>3336</td>\n",
       "      <td>352185</td>\n",
       "    </tr>\n",
       "  </tbody>\n",
       "</table>\n",
       "<p>364 rows × 6 columns</p>\n",
       "</div>"
      ],
      "text/plain": [
       "       Date_reported                   Country  New_cases  Cumulative_cases  \\\n",
       "174246    2020-01-03  United States of America          0                 0   \n",
       "174247    2020-01-04  United States of America          0                 0   \n",
       "174248    2020-01-05  United States of America          0                 0   \n",
       "174249    2020-01-06  United States of America          0                 0   \n",
       "174250    2020-01-07  United States of America          0                 0   \n",
       "...              ...                       ...        ...               ...   \n",
       "174605    2020-12-27  United States of America     158525          18894000   \n",
       "174606    2020-12-28  United States of America     149358          19043358   \n",
       "174607    2020-12-29  United States of America     152831          19196189   \n",
       "174608    2020-12-30  United States of America     178998          19375187   \n",
       "174609    2020-12-31  United States of America     209046          19584233   \n",
       "\n",
       "        New_deaths  Cumulative_deaths  \n",
       "174246           0                  0  \n",
       "174247           0                  0  \n",
       "174248           0                  0  \n",
       "174249           0                  0  \n",
       "174250           0                  0  \n",
       "...            ...                ...  \n",
       "174605        2226             343083  \n",
       "174606        1650             344733  \n",
       "174607        1890             346623  \n",
       "174608        2226             348849  \n",
       "174609        3336             352185  \n",
       "\n",
       "[364 rows x 6 columns]"
      ]
     },
     "execution_count": 12,
     "metadata": {},
     "output_type": "execute_result"
    }
   ],
   "source": [
    "# Selecting only the necessary columns needed to do our analysis\n",
    "us_covid_df = us_covid_df[['Date_reported', 'Country', 'New_cases', 'Cumulative_cases', \n",
    "                          'New_deaths', 'Cumulative_deaths']]\n",
    "\n",
    "# Reconfiguring dataframe to include dates only in the year 2020\n",
    "us_covid_df.loc[us_covid_df['Date_reported'].dt.year == 2020]"
   ]
  }
 ],
 "metadata": {
  "kernelspec": {
   "display_name": "Python 3",
   "language": "python",
   "name": "python3"
  },
  "language_info": {
   "codemirror_mode": {
    "name": "ipython",
    "version": 3
   },
   "file_extension": ".py",
   "mimetype": "text/x-python",
   "name": "python",
   "nbconvert_exporter": "python",
   "pygments_lexer": "ipython3",
   "version": "3.9.7"
  }
 },
 "nbformat": 4,
 "nbformat_minor": 2
}
