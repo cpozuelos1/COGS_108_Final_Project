{
  "cells": [
    {
      "cell_type": "markdown",
      "metadata": {
        "id": "dBzsu0KTYt68"
      },
      "source": [
        "# COGS 108 - Final Project Proposal"
      ]
    },
    {
      "cell_type": "markdown",
      "metadata": {
        "id": "qxqfLwnvYt6_"
      },
      "source": [
        "# Names\n",
        "\n",
        "- Clara Pozuelos-Reyes\n",
        "- Judy Liu\n",
        "- Aidan Truel\n",
        "- Ethan Tan \n",
        "- Nathaniel Wong"
      ]
    },
    {
      "cell_type": "markdown",
      "metadata": {
        "id": "Jti8qhJOYt7A"
      },
      "source": [
        "# Research Question"
      ]
    },
    {
      "cell_type": "markdown",
      "metadata": {
        "id": "svz7FKL4Yt7A"
      },
      "source": [
        "Was the performance of technology related companies as well as physical entertainment companies in the stock market directly influenced by the rise and fall of COVID-19 infection rates in the 2020 year?\n"
      ]
    },
    {
      "cell_type": "markdown",
      "metadata": {
        "id": "6OQ9sL9RYt7B"
      },
      "source": [
        "## Background and Prior Work"
      ]
    },
    {
      "cell_type": "markdown",
      "metadata": {
        "id": "i54wOk9VYt7B"
      },
      "source": [
        "What is considered the stock market is comprised of and measured in what is known as stock market indexes [[1]](https://www.forbes.com/advisor/investing/stock-market-index/). These indexes allow investors the opportunity to track their investment’s health, and whether a certain stock is on the rise or downfall. These indexes can be composed of several stock types such as agriculture, technology, real estate, and more. The two most popular stock indexes are the Dow Jones Industrial Average (DJIA) and Standard & Poor's 500 Index (S&P 500) [[2]](https://www.investopedia.com/ask/answers/difference-between-dow-jones-industrial-average-and-sp-500/#:~:text=The%20DJIA%20tracks%20the%20stock,the%20stock%20markets%20in%20general.). Each takes measurements of popular company stocks and reports their averages. \n",
        "\n",
        "COVID-19 is a disease that was discovered in December 2019, in Wuhan, China [[3]](https://www.cdc.gov/coronavirus/2019-ncov/your-health/about-covid-19/basics-covid-19.html). This highly contagious virus spreads through droplets, such as via the mouth and other manners. Symptoms include fever, cough, headache, body aches, and more [[4]](https://www.cdc.gov/coronavirus/2019-ncov/symptoms-testing/symptoms.html). It is recommended that to prevent the spread of the virus wear medical-grade masks when possible that are well-fitted [[5]](https://www.cdc.gov/coronavirus/2019-ncov/prevent-getting-sick/masks.html). Frequent hand washing and general sanitization of shared and high-touch surfaces are also recommended. Beyond these everyday precautions, the CDC and other government agencies recommended receiving the COVID-19 vaccine (a two-dose system) which lessens the likelihood of death and better helps patients with their symptoms. \n",
        "\n",
        "With this information in mind, to understand how COVID-19 caused a stock market crash in March 2020 is to understand what happened that led to this event. As more cases of COVID-19 were reported in the U.S., and several states and businesses were shutting down in early March, stock investors feared the unknown that was COVID-19 [[6]](https://www.thebalance.com/fundamentals-of-the-2020-market-crash-4799950). States such as California began declaring a state of emergency on March 4th, 2020 [[7]](https://calmatters.org/health/coronavirus/2021/03/timeline-california-pandemic-year-key-points/), followed by New York on March 7, 2020 [[8]]( https://www.investopedia.com/historical-timeline-of-covid-19-in-new-york-city-5071986). Finally, former President Trump declared a national state of emergency on March 13, 2020. Before March 13, the Dow Jones Industrial Average (DJIA) had already seen a significant point drop. However, three days after the national emergency declaration, March 16, 2020, saw a record low for the DJIA at a 12.93% point fall [[6]](https://www.thebalance.com/fundamentals-of-the-2020-market-crash-4799950). After this, a recession was triggered for the rest of 2020. According to a prior study, stocks such as food, healthcare, and others saw the most positive equity value [[9]](https://www.ncbi.nlm.nih.gov/pmc/articles/PMC7343658/). On the other end, stocks such as real estate, and entrainment saw low returns [[9]](https://www.ncbi.nlm.nih.gov/pmc/articles/PMC7343658/). \n",
        "\n",
        "In all, our intereset in finding a trend between COVID-19 infection rates and stock market changes stems from wanting to predict future stock changes \n",
        "\n",
        "\n",
        "References (include links):\n",
        "- 1) https://www.forbes.com/advisor/investing/stock-market-index/\n",
        "- 2) https://www.investopedia.com/ask/answers/difference-between-dow-jones-industrial-average-and-sp-500/#:~:text=The%20DJIA%20tracks%20the%20stock,the%20stock%20markets%20in%20general.\n",
        "- 3) https://www.cdc.gov/coronavirus/2019-ncov/your-health/about-covid-19/basics-covid-19.html\n",
        "- 4) https://www.cdc.gov/coronavirus/2019-ncov/symptoms-testing/symptoms.html\n",
        "- 5) https://www.cdc.gov/coronavirus/2019-ncov/prevent-getting-sick/masks.html\n",
        "- 6) https://www.thebalance.com/fundamentals-of-the-2020-market-crash-4799950\n",
        "- 7) https://calmatters.org/health/coronavirus/2021/03/timeline-california-pandemic-year-key-points/\n",
        "- 8) https://www.investopedia.com/historical-timeline-of-covid-19-in-new-york-city-5071986\n",
        "- 9) https://www.ncbi.nlm.nih.gov/pmc/articles/PMC7343658/"
      ]
    },
    {
      "cell_type": "markdown",
      "metadata": {
        "id": "7ZH__-etYt7B"
      },
      "source": [
        "# Hypothesis\n"
      ]
    },
    {
      "cell_type": "markdown",
      "metadata": {
        "id": "5BdynIcJYt7C"
      },
      "source": [
        "*State and defend your hypotheses here.*\n",
        "\n",
        "We hypothesize is that there is a clear relationship between daily count of Covid-19 infection rates for the year 2020 and stock market changes, specifically to market indices tracking technology, food, and entertainment. We predict that the rise of Covid-19 cases led to falling stock prices for physical entertainment related companies, and a large increase in stock prices for technology companies. \n",
        "\n",
        "We hypothesize decreased stock prices for resort companies because we think with physical locations being placed under lockdown during that year, lack of travel to sight seeing destinations impacted those related businesses negatively. Secondly, we hypothesize that technology related companies increased in stock prices because we think that quarantined citizens were more inclined to use technology related products for work and for entertainment.\n"
      ]
    },
    {
      "cell_type": "markdown",
      "metadata": {
        "id": "uj2ppqNpYt7D"
      },
      "source": [
        "# Data"
      ]
    },
    {
      "cell_type": "markdown",
      "metadata": {
        "id": "NuQH-SCHYt7D"
      },
      "source": [
        "*Explain what the ideal dataset you would want to answer this question. (This should include: What variables? How many observations? Who/what/how would these data be collected? How would these data be stored/organized?)*\n",
        "\n",
        "Some ideal datasets we would have to answer this question would be opening and closing data for specific stock tickers, speicifically those which are in line with our hypothesis (technology companies as well as food companies). We would like as many observations as possible starting from the beignning of the COVID-19 stock market crash. Most of this data would be collected through yahoo finance's data API, and then organized into csv files speciifcally by the area of speciality the company falls under to make for easier analysis of COVID-19's effect on specific economic sectors. "
      ]
    },
    {
      "cell_type": "markdown",
      "metadata": {
        "id": "GmhwGc_vYt7E"
      },
      "source": [
        "# Ethics & Privacy"
      ]
    },
    {
      "cell_type": "markdown",
      "metadata": {
        "id": "MlpYSE5bYt7E"
      },
      "source": [
        "*Fill in your ethics & privacy discussion here*\n",
        "\n",
        "*   potential biases: information of covid infection numbers may be more accurate in countries with more developed systems of data collection (how to address?)\n",
        "*   personally identifiable information: the data sources we've seen so far have already removed PII, but we will be sure to limit PII exposure if any of our data is at risk\n",
        "*   data security: how will data be secured?\n",
        "*   honest representation: we will strive to make our visualizations, summary statistics, and reports accurately and honestly represent the underlying data\n",
        "*   Auditability: the process of generating the analysis will be well-documented and reproducible\n",
        "*   Roll back: we will keep track of our model in production through version control using git\n",
        "*   Concept drift: we will test and monitor for concept drift to ensure the model remains fair over time\n",
        "\n",
        "> For our analysis, privacy will not be a major concern as we are not collecting data from individuals or even individual corporations but rather aggregated data such as index funds. To a certain extent, it is inevitable (due to the nature of monopoly capitalism) that the identity of corporations can be inferred since we will break down data by sectors, however this is not a major concern since corporations make their data publicly available for scrutiny by anyone. Furthermore, we will not use personally identifiable information for Covid infections because we care more about total case counts. All our data will be taken from publicly available datasets. For this reason, we will not worry about securing our data.\n",
        "> Another ethical concern is honesty and clarity. We will strive to represent data as accurately as possible through data visualizations and statistics. If we have to remove data for our analyses, we will clearly communicate why we had to do so and check that the missing data is random. We will, at every step of the way, ask what biases may exist in the data and our interpretation of the data and take proactive measures to combat dishonest representation. Additionally, we will keep records as our model progresses through version control with Git. Finally, we will be as detailed as possible in the descriptions of our data analysis so that anybody with the same data could reproduce our results. \n",
        "\n"
      ]
    },
    {
      "cell_type": "markdown",
      "metadata": {
        "id": "BxcRgpzzYt7E"
      },
      "source": [
        "# Team Expectations "
      ]
    },
    {
      "cell_type": "markdown",
      "metadata": {
        "id": "njnQQMiBYt7E"
      },
      "source": [
        "* Ethan Tan - Data collection & analysis\n",
        "* Judy Liu - Data collection & analysis\n",
        "* Nathaniel Wong - Data cleaning & Analysis\n",
        "* Clara - Background information and prior studies gathering\n",
        "* Aidan - writing ethics and privacy section"
      ]
    },
    {
      "cell_type": "markdown",
      "metadata": {
        "id": "0Mf659U3Yt7F"
      },
      "source": [
        "# Project Timeline Proposal"
      ]
    },
    {
      "cell_type": "markdown",
      "metadata": {
        "id": "ex42qnieYt7F"
      },
      "source": [
        "| Meeting Date  | Meeting Time| Completed Before Meeting  | Discuss at Meeting |\n",
        "|---|---|---|---|\n",
        "| 1/20  |  1 PM | Read & Think about COGS 108 expectations; Determine best form of communication; brainstorm topics/questions  | Discuss and brainstorm on final project topic; discuss hypothesis; begin background research | \n",
        "| 1/23  |  10 AM |  Decide and do background research on topic | Discuss ideal dataset(s) and ethics; draft project proposal | \n",
        "| 1/8  |  10 AM |  Continue working on project proposal; get TA feedback | finalize draft project proposal  | \n",
        "| 2/1  | 10 AM  | Edit, finalize, and submit proposal; Search for datasets  | Discuss Wrangling and possible analytical approaches; Assign group members to lead each specific part   |\n",
        "| 2/14  | 6 PM  | Import & Wrangle Data; EDA | Review/Edit wrangling/EDA; Discuss Analysis Plan   |\n",
        "| 2/23  | 12 PM  | Finalize wrangling/EDA; Begin Analysis | Discuss/edit Analysis; Complete project check-in |\n",
        "| 3/13  | 12 PM  | Complete analysis; Draft results/conclusion/discussion | Discuss/edit full project |\n",
        "| 3/19  | Before 11:59 PM  | NA | Turn in Final Project & Group Project Surveys |"
      ]
    }
  ],
  "metadata": {
    "kernelspec": {
      "display_name": "Python 3",
      "language": "python",
      "name": "python3"
    },
    "language_info": {
      "codemirror_mode": {
        "name": "ipython",
        "version": 3
      },
      "file_extension": ".py",
      "mimetype": "text/x-python",
      "name": "python",
      "nbconvert_exporter": "python",
      "pygments_lexer": "ipython3",
      "version": "3.7.9"
    },
    "colab": {
      "name": "ProjectProposalGroup071-Wi22.ipynb",
      "provenance": [],
      "collapsed_sections": []
    }
  },
  "nbformat": 4,
  "nbformat_minor": 0
}